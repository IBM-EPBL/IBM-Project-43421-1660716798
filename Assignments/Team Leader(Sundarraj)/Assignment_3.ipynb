{
 "cells": [
  {
   "cell_type": "code",
   "execution_count": 1,
   "id": "69a5f49b",
   "metadata": {},
   "outputs": [],
   "source": [
    "import pandas as pd \n",
    "import numpy as np\n",
    "import matplotlib.pyplot as plt\n",
    "import seaborn as sns"
   ]
  },
  {
   "cell_type": "code",
   "execution_count": 3,
   "id": "62e59ede",
   "metadata": {},
   "outputs": [
    {
     "data": {
      "text/html": [
       "<div>\n",
       "<style scoped>\n",
       "    .dataframe tbody tr th:only-of-type {\n",
       "        vertical-align: middle;\n",
       "    }\n",
       "\n",
       "    .dataframe tbody tr th {\n",
       "        vertical-align: top;\n",
       "    }\n",
       "\n",
       "    .dataframe thead th {\n",
       "        text-align: right;\n",
       "    }\n",
       "</style>\n",
       "<table border=\"1\" class=\"dataframe\">\n",
       "  <thead>\n",
       "    <tr style=\"text-align: right;\">\n",
       "      <th></th>\n",
       "      <th>Sex</th>\n",
       "      <th>Length</th>\n",
       "      <th>Diameter</th>\n",
       "      <th>Height</th>\n",
       "      <th>Whole weight</th>\n",
       "      <th>Shucked weight</th>\n",
       "      <th>Viscera weight</th>\n",
       "      <th>Shell weight</th>\n",
       "      <th>Rings</th>\n",
       "    </tr>\n",
       "  </thead>\n",
       "  <tbody>\n",
       "    <tr>\n",
       "      <th>0</th>\n",
       "      <td>M</td>\n",
       "      <td>0.455</td>\n",
       "      <td>0.365</td>\n",
       "      <td>0.095</td>\n",
       "      <td>0.5140</td>\n",
       "      <td>0.2245</td>\n",
       "      <td>0.1010</td>\n",
       "      <td>0.150</td>\n",
       "      <td>15</td>\n",
       "    </tr>\n",
       "    <tr>\n",
       "      <th>1</th>\n",
       "      <td>M</td>\n",
       "      <td>0.350</td>\n",
       "      <td>0.265</td>\n",
       "      <td>0.090</td>\n",
       "      <td>0.2255</td>\n",
       "      <td>0.0995</td>\n",
       "      <td>0.0485</td>\n",
       "      <td>0.070</td>\n",
       "      <td>7</td>\n",
       "    </tr>\n",
       "    <tr>\n",
       "      <th>2</th>\n",
       "      <td>F</td>\n",
       "      <td>0.530</td>\n",
       "      <td>0.420</td>\n",
       "      <td>0.135</td>\n",
       "      <td>0.6770</td>\n",
       "      <td>0.2565</td>\n",
       "      <td>0.1415</td>\n",
       "      <td>0.210</td>\n",
       "      <td>9</td>\n",
       "    </tr>\n",
       "    <tr>\n",
       "      <th>3</th>\n",
       "      <td>M</td>\n",
       "      <td>0.440</td>\n",
       "      <td>0.365</td>\n",
       "      <td>0.125</td>\n",
       "      <td>0.5160</td>\n",
       "      <td>0.2155</td>\n",
       "      <td>0.1140</td>\n",
       "      <td>0.155</td>\n",
       "      <td>10</td>\n",
       "    </tr>\n",
       "    <tr>\n",
       "      <th>4</th>\n",
       "      <td>I</td>\n",
       "      <td>0.330</td>\n",
       "      <td>0.255</td>\n",
       "      <td>0.080</td>\n",
       "      <td>0.2050</td>\n",
       "      <td>0.0895</td>\n",
       "      <td>0.0395</td>\n",
       "      <td>0.055</td>\n",
       "      <td>7</td>\n",
       "    </tr>\n",
       "  </tbody>\n",
       "</table>\n",
       "</div>"
      ],
      "text/plain": [
       "  Sex  Length  Diameter  Height  Whole weight  Shucked weight  Viscera weight  \\\n",
       "0   M   0.455     0.365   0.095        0.5140          0.2245          0.1010   \n",
       "1   M   0.350     0.265   0.090        0.2255          0.0995          0.0485   \n",
       "2   F   0.530     0.420   0.135        0.6770          0.2565          0.1415   \n",
       "3   M   0.440     0.365   0.125        0.5160          0.2155          0.1140   \n",
       "4   I   0.330     0.255   0.080        0.2050          0.0895          0.0395   \n",
       "\n",
       "   Shell weight  Rings  \n",
       "0         0.150     15  \n",
       "1         0.070      7  \n",
       "2         0.210      9  \n",
       "3         0.155     10  \n",
       "4         0.055      7  "
      ]
     },
     "execution_count": 3,
     "metadata": {},
     "output_type": "execute_result"
    }
   ],
   "source": [
    "data=pd.read_csv(\"E:AI &ML_datasets/abalone.csv\")\n",
    "data.head()"
   ]
  },
  {
   "cell_type": "code",
   "execution_count": 4,
   "id": "263e7547",
   "metadata": {},
   "outputs": [
    {
     "name": "stdout",
     "output_type": "stream",
     "text": [
      "<class 'pandas.core.frame.DataFrame'>\n",
      "RangeIndex: 4177 entries, 0 to 4176\n",
      "Data columns (total 9 columns):\n",
      " #   Column          Non-Null Count  Dtype  \n",
      "---  ------          --------------  -----  \n",
      " 0   Sex             4177 non-null   object \n",
      " 1   Length          4177 non-null   float64\n",
      " 2   Diameter        4177 non-null   float64\n",
      " 3   Height          4177 non-null   float64\n",
      " 4   Whole weight    4177 non-null   float64\n",
      " 5   Shucked weight  4177 non-null   float64\n",
      " 6   Viscera weight  4177 non-null   float64\n",
      " 7   Shell weight    4177 non-null   float64\n",
      " 8   Rings           4177 non-null   int64  \n",
      "dtypes: float64(7), int64(1), object(1)\n",
      "memory usage: 293.8+ KB\n"
     ]
    }
   ],
   "source": [
    "data.info()"
   ]
  },
  {
   "cell_type": "code",
   "execution_count": 5,
   "id": "dd02e342",
   "metadata": {},
   "outputs": [
    {
     "name": "stdout",
     "output_type": "stream",
     "text": [
      "M    1528\n",
      "I    1342\n",
      "F    1307\n",
      "Name: Sex, dtype: int64\n",
      "0.625    94\n",
      "0.550    94\n",
      "0.575    93\n",
      "0.580    92\n",
      "0.600    87\n",
      "         ..\n",
      "0.075     1\n",
      "0.815     1\n",
      "0.110     1\n",
      "0.150     1\n",
      "0.800     1\n",
      "Name: Length, Length: 134, dtype: int64\n",
      "0.450    139\n",
      "0.475    120\n",
      "0.400    111\n",
      "0.500    110\n",
      "0.470    100\n",
      "        ... \n",
      "0.610      1\n",
      "0.650      1\n",
      "0.620      1\n",
      "0.095      1\n",
      "0.615      1\n",
      "Name: Diameter, Length: 111, dtype: int64\n",
      "0.150    267\n",
      "0.140    220\n",
      "0.155    217\n",
      "0.175    211\n",
      "0.160    205\n",
      "0.125    202\n",
      "0.165    193\n",
      "0.135    189\n",
      "0.145    182\n",
      "0.130    169\n",
      "0.120    169\n",
      "0.170    160\n",
      "0.100    145\n",
      "0.110    135\n",
      "0.115    133\n",
      "0.180    131\n",
      "0.090    124\n",
      "0.105    114\n",
      "0.185    103\n",
      "0.190    103\n",
      "0.095     91\n",
      "0.195     78\n",
      "0.080     76\n",
      "0.085     74\n",
      "0.200     68\n",
      "0.075     61\n",
      "0.070     47\n",
      "0.205     45\n",
      "0.065     39\n",
      "0.215     31\n",
      "0.060     26\n",
      "0.055     25\n",
      "0.210     23\n",
      "0.050     18\n",
      "0.220     17\n",
      "0.040     13\n",
      "0.225     13\n",
      "0.045     11\n",
      "0.230     10\n",
      "0.030      6\n",
      "0.035      6\n",
      "0.235      6\n",
      "0.025      5\n",
      "0.240      4\n",
      "0.250      3\n",
      "0.020      2\n",
      "0.015      2\n",
      "0.000      2\n",
      "0.010      1\n",
      "0.515      1\n",
      "1.130      1\n",
      "Name: Height, dtype: int64\n",
      "0.2225    8\n",
      "1.1345    7\n",
      "0.9700    7\n",
      "0.4775    7\n",
      "0.1960    7\n",
      "         ..\n",
      "0.0475    1\n",
      "1.8930    1\n",
      "1.8725    1\n",
      "2.1055    1\n",
      "1.9485    1\n",
      "Name: Whole weight, Length: 2429, dtype: int64\n",
      "0.1750    11\n",
      "0.2505    10\n",
      "0.0970     9\n",
      "0.0960     9\n",
      "0.4190     9\n",
      "          ..\n",
      "0.4175     1\n",
      "0.1935     1\n",
      "0.1790     1\n",
      "0.1275     1\n",
      "0.9455     1\n",
      "Name: Shucked weight, Length: 1515, dtype: int64\n",
      "0.1715    15\n",
      "0.1960    14\n",
      "0.0575    13\n",
      "0.0610    13\n",
      "0.0370    13\n",
      "          ..\n",
      "0.4270     1\n",
      "0.4075     1\n",
      "0.4920     1\n",
      "0.4650     1\n",
      "0.5260     1\n",
      "Name: Viscera weight, Length: 880, dtype: int64\n",
      "0.2750    43\n",
      "0.2500    42\n",
      "0.2650    40\n",
      "0.3150    40\n",
      "0.1850    40\n",
      "          ..\n",
      "0.0060     1\n",
      "0.6460     1\n",
      "0.5010     1\n",
      "0.3295     1\n",
      "0.0920     1\n",
      "Name: Shell weight, Length: 926, dtype: int64\n",
      "9     689\n",
      "10    634\n",
      "8     568\n",
      "11    487\n",
      "7     391\n",
      "12    267\n",
      "6     259\n",
      "13    203\n",
      "14    126\n",
      "5     115\n",
      "15    103\n",
      "16     67\n",
      "17     58\n",
      "4      57\n",
      "18     42\n",
      "19     32\n",
      "20     26\n",
      "3      15\n",
      "21     14\n",
      "23      9\n",
      "22      6\n",
      "27      2\n",
      "24      2\n",
      "1       1\n",
      "26      1\n",
      "29      1\n",
      "2       1\n",
      "25      1\n",
      "Name: Rings, dtype: int64\n"
     ]
    }
   ],
   "source": [
    "for i in data.columns:\n",
    "    print(data[i].value_counts())"
   ]
  },
  {
   "cell_type": "code",
   "execution_count": 6,
   "id": "2d06bd8b",
   "metadata": {},
   "outputs": [
    {
     "data": {
      "text/plain": [
       "Sex               0\n",
       "Length            0\n",
       "Diameter          0\n",
       "Height            0\n",
       "Whole weight      0\n",
       "Shucked weight    0\n",
       "Viscera weight    0\n",
       "Shell weight      0\n",
       "Rings             0\n",
       "dtype: int64"
      ]
     },
     "execution_count": 6,
     "metadata": {},
     "output_type": "execute_result"
    }
   ],
   "source": [
    "data.isnull().sum()"
   ]
  },
  {
   "cell_type": "code",
   "execution_count": 8,
   "id": "868c9be3",
   "metadata": {},
   "outputs": [
    {
     "data": {
      "text/plain": [
       "False    4177\n",
       "dtype: int64"
      ]
     },
     "execution_count": 8,
     "metadata": {},
     "output_type": "execute_result"
    }
   ],
   "source": [
    "data.duplicated().value_counts()"
   ]
  },
  {
   "cell_type": "markdown",
   "id": "f5094eef",
   "metadata": {},
   "source": [
    "BY ABOVE OBSERVATION, PREPROCESSING IS NOT REQUIRED FOR THIS DATA"
   ]
  },
  {
   "cell_type": "markdown",
   "id": "0c037dab",
   "metadata": {},
   "source": [
    "## Data Visualization(EDA Analysis)"
   ]
  },
  {
   "cell_type": "code",
   "execution_count": 23,
   "id": "8f5779b5",
   "metadata": {},
   "outputs": [
    {
     "data": {
      "text/plain": [
       "<AxesSubplot:xlabel='Length'>"
      ]
     },
     "execution_count": 23,
     "metadata": {},
     "output_type": "execute_result"
    },
    {
     "data": {
      "image/png": "[encoded data removed]",
      "text/plain": [
       "<Figure size 432x288 with 1 Axes>"
      ]
     },
     "metadata": {
      "needs_background": "light"
     },
     "output_type": "display_data"
    }
   ],
   "source": [
    "sns.boxplot(data=data,x=\"Length\")"
   ]
  },
  {
   "cell_type": "code",
   "execution_count": 22,
   "id": "8a59bd80",
   "metadata": {},
   "outputs": [
    {
     "data": {
      "text/plain": [
       "<AxesSubplot:xlabel='Length'>"
      ]
     },
     "execution_count": 22,
     "metadata": {},
     "output_type": "execute_result"
    },
    {
     "data": {
      "image/png": "[encoded data removed]",
      "text/plain": [
       "<Figure size 432x288 with 1 Axes>"
      ]
     },
     "metadata": {
      "needs_background": "light"
     },
     "output_type": "display_data"
    }
   ],
   "source": [
    "sns.boxenplot(data=data,x=\"Length\")"
   ]
  },
  {
   "cell_type": "code",
   "execution_count": 20,
   "id": "7bf7b845",
   "metadata": {},
   "outputs": [
    {
     "data": {
      "text/plain": [
       "<AxesSubplot:xlabel='Diameter'>"
      ]
     },
     "execution_count": 20,
     "metadata": {},
     "output_type": "execute_result"
    },
    {
     "data": {
      "image/png": "[encoded data removed]",
      "text/plain": [
       "<Figure size 432x288 with 1 Axes>"
      ]
     },
     "metadata": {
      "needs_background": "light"
     },
     "output_type": "display_data"
    }
   ],
   "source": [
    "sns.boxplot(data=data,x=\"Diameter\")"
   ]
  },
  {
   "cell_type": "code",
   "execution_count": 21,
   "id": "6e96a6a8",
   "metadata": {},
   "outputs": [
    {
     "data": {
      "text/plain": [
       "<AxesSubplot:xlabel='Height'>"
      ]
     },
     "execution_count": 21,
     "metadata": {},
     "output_type": "execute_result"
    },
    {
     "data": {
      "image/png": "[encoded data removed]",
      "text/plain": [
       "<Figure size 432x288 with 1 Axes>"
      ]
     },
     "metadata": {
      "needs_background": "light"
     },
     "output_type": "display_data"
    }
   ],
   "source": [
    "sns.boxplot(data=data,x=\"Height\")"
   ]
  },
  {
   "cell_type": "code",
   "execution_count": 25,
   "id": "b0e25e62",
   "metadata": {},
   "outputs": [
    {
     "data": {
      "text/plain": [
       "<AxesSubplot:xlabel='Length', ylabel='Height'>"
      ]
     },
     "execution_count": 25,
     "metadata": {},
     "output_type": "execute_result"
    },
    {
     "data": {
      "image/png": "[encoded data removed]",
      "text/plain": [
       "<Figure size 432x288 with 1 Axes>"
      ]
     },
     "metadata": {
      "needs_background": "light"
     },
     "output_type": "display_data"
    }
   ],
   "source": [
    "sns.lineplot(data=data,x=\"Length\",y=\"Height\")"
   ]
  },
  {
   "cell_type": "code",
   "execution_count": 24,
   "id": "2869ffed",
   "metadata": {},
   "outputs": [
    {
     "data": {
      "text/plain": [
       "<AxesSubplot:xlabel='Length', ylabel='Height'>"
      ]
     },
     "execution_count": 24,
     "metadata": {},
     "output_type": "execute_result"
    },
    {
     "data": {
      "image/png": "[encoded data removed]",
      "text/plain": [
       "<Figure size 432x288 with 1 Axes>"
      ]
     },
     "metadata": {
      "needs_background": "light"
     },
     "output_type": "display_data"
    }
   ],
   "source": [
    "sns.scatterplot(data=data,x=\"Length\",y=\"Height\")"
   ]
  },
  {
   "cell_type": "code",
   "execution_count": 26,
   "id": "c80565bb",
   "metadata": {},
   "outputs": [
    {
     "data": {
      "text/plain": [
       "<AxesSubplot:xlabel='Diameter', ylabel='Height'>"
      ]
     },
     "execution_count": 26,
     "metadata": {},
     "output_type": "execute_result"
    },
    {
     "data": {
      "image/png": "[encoded data removed]",
      "text/plain": [
       "<Figure size 432x288 with 1 Axes>"
      ]
     },
     "metadata": {
      "needs_background": "light"
     },
     "output_type": "display_data"
    }
   ],
   "source": [
    "sns.scatterplot(data=data,x=\"Diameter\",y=\"Height\")"
   ]
  },
  {
   "cell_type": "code",
   "execution_count": 27,
   "id": "b3990e7c",
   "metadata": {},
   "outputs": [
    {
     "data": {
      "text/plain": [
       "<AxesSubplot:xlabel='Whole weight'>"
      ]
     },
     "execution_count": 27,
     "metadata": {},
     "output_type": "execute_result"
    },
    {
     "data": {
      "image/png": "[encoded data removed]",
      "text/plain": [
       "<Figure size 432x288 with 1 Axes>"
      ]
     },
     "metadata": {
      "needs_background": "light"
     },
     "output_type": "display_data"
    }
   ],
   "source": [
    "sns.boxplot(data=data,x=\"Whole weight\")"
   ]
  },
  {
   "cell_type": "code",
   "execution_count": 29,
   "id": "e8446d29",
   "metadata": {},
   "outputs": [
    {
     "data": {
      "text/plain": [
       "<AxesSubplot:xlabel='Shucked weight'>"
      ]
     },
     "execution_count": 29,
     "metadata": {},
     "output_type": "execute_result"
    },
    {
     "data": {
      "image/png": "[encoded data removed]",
      "text/plain": [
       "<Figure size 432x288 with 1 Axes>"
      ]
     },
     "metadata": {
      "needs_background": "light"
     },
     "output_type": "display_data"
    }
   ],
   "source": [
    "sns.boxplot(data=data,x=\"Shucked weight\")"
   ]
  },
  {
   "cell_type": "code",
   "execution_count": 28,
   "id": "a75381e7",
   "metadata": {},
   "outputs": [
    {
     "data": {
      "text/plain": [
       "Index(['Sex', 'Length', 'Diameter', 'Height', 'Whole weight', 'Shucked weight',\n",
       "       'Viscera weight', 'Shell weight', 'Rings'],\n",
       "      dtype='object')"
      ]
     },
     "execution_count": 28,
     "metadata": {},
     "output_type": "execute_result"
    }
   ],
   "source": [
    "data.columns"
   ]
  },
  {
   "cell_type": "code",
   "execution_count": 30,
   "id": "fa4ffb92",
   "metadata": {},
   "outputs": [
    {
     "data": {
      "text/plain": [
       "<AxesSubplot:xlabel='Viscera weight'>"
      ]
     },
     "execution_count": 30,
     "metadata": {},
     "output_type": "execute_result"
    },
    {
     "data": {
      "image/png": "[encoded data removed]",
      "text/plain": [
       "<Figure size 432x288 with 1 Axes>"
      ]
     },
     "metadata": {
      "needs_background": "light"
     },
     "output_type": "display_data"
    }
   ],
   "source": [
    "sns.boxplot(data=data,x=\"Viscera weight\")"
   ]
  },
  {
   "cell_type": "code",
   "execution_count": 31,
   "id": "9284052d",
   "metadata": {},
   "outputs": [
    {
     "data": {
      "text/plain": [
       "<AxesSubplot:xlabel='Shell weight'>"
      ]
     },
     "execution_count": 31,
     "metadata": {},
     "output_type": "execute_result"
    },
    {
     "data": {
      "image/png": "[encoded data removed]",
      "text/plain": [
       "<Figure size 432x288 with 1 Axes>"
      ]
     },
     "metadata": {
      "needs_background": "light"
     },
     "output_type": "display_data"
    }
   ],
   "source": [
    "sns.boxplot(data=data,x=\"Shell weight\")"
   ]
  },
  {
   "cell_type": "code",
   "execution_count": 32,
   "id": "2548d5bf",
   "metadata": {},
   "outputs": [
    {
     "data": {
      "text/plain": [
       "<AxesSubplot:xlabel='Rings'>"
      ]
     },
     "execution_count": 32,
     "metadata": {},
     "output_type": "execute_result"
    },
    {
     "data": {
      "image/png": "[encoded data removed]",
      "text/plain": [
       "<Figure size 432x288 with 1 Axes>"
      ]
     },
     "metadata": {
      "needs_background": "light"
     },
     "output_type": "display_data"
    }
   ],
   "source": [
    "sns.boxplot(data=data,x=\"Rings\")"
   ]
  },
  {
   "cell_type": "code",
   "execution_count": 33,
   "id": "bc7f1090",
   "metadata": {},
   "outputs": [
    {
     "data": {
      "text/plain": [
       "<AxesSubplot:xlabel='Diameter', ylabel='Whole weight'>"
      ]
     },
     "execution_count": 33,
     "metadata": {},
     "output_type": "execute_result"
    },
    {
     "data": {
      "image/png": "[encoded data removed]",
      "text/plain": [
       "<Figure size 432x288 with 1 Axes>"
      ]
     },
     "metadata": {
      "needs_background": "light"
     },
     "output_type": "display_data"
    }
   ],
   "source": [
    "sns.scatterplot(data=data,x=\"Diameter\",y=\"Whole weight\")"
   ]
  },
  {
   "cell_type": "code",
   "execution_count": 35,
   "id": "feab0346",
   "metadata": {},
   "outputs": [
    {
     "data": {
      "text/plain": [
       "<seaborn.axisgrid.FacetGrid at 0x19b2f11ee20>"
      ]
     },
     "execution_count": 35,
     "metadata": {},
     "output_type": "execute_result"
    },
    {
     "data": {
      "image/png": "[encoded data removed]",
      "text/plain": [
       "<Figure size 360x360 with 1 Axes>"
      ]
     },
     "metadata": {
      "needs_background": "light"
     },
     "output_type": "display_data"
    }
   ],
   "source": [
    "sns.catplot(x=\"Shell weight\",y=\"Sex\",data=data,kind='box')"
   ]
  },
  {
   "cell_type": "markdown",
   "id": "0c2e9844",
   "metadata": {},
   "source": [
    "### Removing Outliers"
   ]
  },
  {
   "cell_type": "code",
   "execution_count": 53,
   "id": "d923bcf2",
   "metadata": {},
   "outputs": [],
   "source": [
    "data1=data[~(data[\"Height\"]>0.4)]"
   ]
  },
  {
   "cell_type": "code",
   "execution_count": 54,
   "id": "3e6f53ce",
   "metadata": {},
   "outputs": [],
   "source": [
    "data1=data1[~(data1[\"Length\"]<0.15)]"
   ]
  },
  {
   "cell_type": "code",
   "execution_count": 55,
   "id": "531ec685",
   "metadata": {},
   "outputs": [],
   "source": [
    "data1=data1[~(data1[\"Shell weight\"]>0.8)]"
   ]
  },
  {
   "cell_type": "code",
   "execution_count": 56,
   "id": "38747112",
   "metadata": {},
   "outputs": [],
   "source": [
    "data1=data1[~(data1[\"Whole weight\"]>2.5)]"
   ]
  },
  {
   "cell_type": "code",
   "execution_count": 58,
   "id": "44c6f088",
   "metadata": {},
   "outputs": [],
   "source": [
    "data1=data1[~(data1[\"Shucked weight\"]>1.2)]"
   ]
  },
  {
   "cell_type": "code",
   "execution_count": 61,
   "id": "9cd08841",
   "metadata": {},
   "outputs": [
    {
     "data": {
      "text/plain": [
       "((4148, 9), (4177, 9))"
      ]
     },
     "execution_count": 61,
     "metadata": {},
     "output_type": "execute_result"
    }
   ],
   "source": [
    "data1.shape,data.shape"
   ]
  },
  {
   "cell_type": "code",
   "execution_count": 66,
   "id": "f5a4996d",
   "metadata": {},
   "outputs": [],
   "source": [
    "data1[\"Age\"]=data1[\"Rings\"]+1.5"
   ]
  },
  {
   "cell_type": "code",
   "execution_count": 67,
   "id": "4ae2f9dc",
   "metadata": {},
   "outputs": [
    {
     "data": {
      "text/html": [
       "<div>\n",
       "<style scoped>\n",
       "    .dataframe tbody tr th:only-of-type {\n",
       "        vertical-align: middle;\n",
       "    }\n",
       "\n",
       "    .dataframe tbody tr th {\n",
       "        vertical-align: top;\n",
       "    }\n",
       "\n",
       "    .dataframe thead th {\n",
       "        text-align: right;\n",
       "    }\n",
       "</style>\n",
       "<table border=\"1\" class=\"dataframe\">\n",
       "  <thead>\n",
       "    <tr style=\"text-align: right;\">\n",
       "      <th></th>\n",
       "      <th>Sex</th>\n",
       "      <th>Length</th>\n",
       "      <th>Diameter</th>\n",
       "      <th>Height</th>\n",
       "      <th>Whole weight</th>\n",
       "      <th>Shucked weight</th>\n",
       "      <th>Viscera weight</th>\n",
       "      <th>Shell weight</th>\n",
       "      <th>Rings</th>\n",
       "      <th>Age</th>\n",
       "    </tr>\n",
       "  </thead>\n",
       "  <tbody>\n",
       "    <tr>\n",
       "      <th>0</th>\n",
       "      <td>M</td>\n",
       "      <td>0.455</td>\n",
       "      <td>0.365</td>\n",
       "      <td>0.095</td>\n",
       "      <td>0.5140</td>\n",
       "      <td>0.2245</td>\n",
       "      <td>0.1010</td>\n",
       "      <td>0.150</td>\n",
       "      <td>15</td>\n",
       "      <td>16.5</td>\n",
       "    </tr>\n",
       "    <tr>\n",
       "      <th>1</th>\n",
       "      <td>M</td>\n",
       "      <td>0.350</td>\n",
       "      <td>0.265</td>\n",
       "      <td>0.090</td>\n",
       "      <td>0.2255</td>\n",
       "      <td>0.0995</td>\n",
       "      <td>0.0485</td>\n",
       "      <td>0.070</td>\n",
       "      <td>7</td>\n",
       "      <td>8.5</td>\n",
       "    </tr>\n",
       "    <tr>\n",
       "      <th>2</th>\n",
       "      <td>F</td>\n",
       "      <td>0.530</td>\n",
       "      <td>0.420</td>\n",
       "      <td>0.135</td>\n",
       "      <td>0.6770</td>\n",
       "      <td>0.2565</td>\n",
       "      <td>0.1415</td>\n",
       "      <td>0.210</td>\n",
       "      <td>9</td>\n",
       "      <td>10.5</td>\n",
       "    </tr>\n",
       "    <tr>\n",
       "      <th>3</th>\n",
       "      <td>M</td>\n",
       "      <td>0.440</td>\n",
       "      <td>0.365</td>\n",
       "      <td>0.125</td>\n",
       "      <td>0.5160</td>\n",
       "      <td>0.2155</td>\n",
       "      <td>0.1140</td>\n",
       "      <td>0.155</td>\n",
       "      <td>10</td>\n",
       "      <td>11.5</td>\n",
       "    </tr>\n",
       "    <tr>\n",
       "      <th>4</th>\n",
       "      <td>I</td>\n",
       "      <td>0.330</td>\n",
       "      <td>0.255</td>\n",
       "      <td>0.080</td>\n",
       "      <td>0.2050</td>\n",
       "      <td>0.0895</td>\n",
       "      <td>0.0395</td>\n",
       "      <td>0.055</td>\n",
       "      <td>7</td>\n",
       "      <td>8.5</td>\n",
       "    </tr>\n",
       "  </tbody>\n",
       "</table>\n",
       "</div>"
      ],
      "text/plain": [
       "  Sex  Length  Diameter  Height  Whole weight  Shucked weight  Viscera weight  \\\n",
       "0   M   0.455     0.365   0.095        0.5140          0.2245          0.1010   \n",
       "1   M   0.350     0.265   0.090        0.2255          0.0995          0.0485   \n",
       "2   F   0.530     0.420   0.135        0.6770          0.2565          0.1415   \n",
       "3   M   0.440     0.365   0.125        0.5160          0.2155          0.1140   \n",
       "4   I   0.330     0.255   0.080        0.2050          0.0895          0.0395   \n",
       "\n",
       "   Shell weight  Rings   Age  \n",
       "0         0.150     15  16.5  \n",
       "1         0.070      7   8.5  \n",
       "2         0.210      9  10.5  \n",
       "3         0.155     10  11.5  \n",
       "4         0.055      7   8.5  "
      ]
     },
     "execution_count": 67,
     "metadata": {},
     "output_type": "execute_result"
    }
   ],
   "source": [
    "data1.head()"
   ]
  },
  {
   "cell_type": "code",
   "execution_count": 69,
   "id": "9ff351dd",
   "metadata": {},
   "outputs": [
    {
     "data": {
      "text/plain": [
       "<AxesSubplot:>"
      ]
     },
     "execution_count": 69,
     "metadata": {},
     "output_type": "execute_result"
    },
    {
     "data": {
      "image/png": "[encoded data removed]",
      "text/plain": [
       "<Figure size 1080x648 with 2 Axes>"
      ]
     },
     "metadata": {
      "needs_background": "light"
     },
     "output_type": "display_data"
    }
   ],
   "source": [
    "plt.figure(figsize=(15,9))\n",
    "sns.heatmap(data1.corr(),annot=True)"
   ]
  },
  {
   "cell_type": "code",
   "execution_count": 108,
   "id": "06bfad40",
   "metadata": {},
   "outputs": [],
   "source": [
    "q1=data1[\"Height\"].quantile(0.25)\n",
    "q3=data1[\"Height\"].quantile(0.75)\n",
    "iq=q3-q1\n",
    "data2=data1[~((data1[\"Height\"]<(q1-1.5*iq))|(data1[\"Height\"]>(q3+1.5*iq)))]"
   ]
  },
  {
   "cell_type": "code",
   "execution_count": 113,
   "id": "91d58d88",
   "metadata": {},
   "outputs": [],
   "source": [
    "q1=data2[\"Length\"].quantile(0.25)\n",
    "q3=data2[\"Length\"].quantile(0.75)\n",
    "iq=q3-q1\n",
    "data2=data2[~((data2[\"Length\"]<(q1-1.5*iq))|(data2[\"Length\"]>(q3+1.5*iq)))]"
   ]
  },
  {
   "cell_type": "code",
   "execution_count": 114,
   "id": "cc6795ca",
   "metadata": {},
   "outputs": [
    {
     "data": {
      "text/plain": [
       "(4066, 10)"
      ]
     },
     "execution_count": 114,
     "metadata": {},
     "output_type": "execute_result"
    }
   ],
   "source": [
    "q1=data2[\"Whole weight\"].quantile(0.25)\n",
    "q3=data2[\"Whole weight\"].quantile(0.75)\n",
    "iq=q3-q1\n",
    "data2=data2[~((data2[\"Whole weight\"]<(q1-1.5*iq))|(data2[\"Whole weight\"]>(q3+1.5*iq)))]\n",
    "data2.shape"
   ]
  },
  {
   "cell_type": "markdown",
   "id": "0bbf08f4",
   "metadata": {},
   "source": [
    "### Split the data into dependent and independent variables.Check for Categorical columns and perform encoding ."
   ]
  },
  {
   "cell_type": "code",
   "execution_count": 129,
   "id": "53295994",
   "metadata": {},
   "outputs": [],
   "source": [
    "x=data1.drop(columns=[\"Age\",\"Rings\"])\n",
    "x[\"Sex\"].replace({'M':2,'F':1,'I':0},inplace=True)\n",
    "y=data1[\"Age\"]"
   ]
  },
  {
   "cell_type": "markdown",
   "id": "493b35e2",
   "metadata": {},
   "source": [
    "### Scale the independent\n",
    "variables"
   ]
  },
  {
   "cell_type": "code",
   "execution_count": 130,
   "id": "c5cfd79b",
   "metadata": {
    "scrolled": true
   },
   "outputs": [
    {
     "data": {
      "text/plain": [
       "array([[ 1.15517188, -0.57962568, -0.43426571, ..., -0.61179664,\n",
       "        -0.72983642, -0.64298618],\n",
       "       [ 1.15517188, -1.46650489, -1.4556039 , ..., -1.19199725,\n",
       "        -1.21854392, -1.23398399],\n",
       "       [-0.05270635,  0.05385947,  0.12747029, ..., -0.46326529,\n",
       "        -0.35283349, -0.19973781],\n",
       "       ...,\n",
       "       [ 1.15517188,  0.64511228,  0.6892063 , ...,  0.78532642,\n",
       "         1.00623881,  0.52423451],\n",
       "       [-0.05270635,  0.856274  ,  0.79134012, ...,  0.81085524,\n",
       "         0.75955788,  0.43558484],\n",
       "       [ 1.15517188,  1.57422383,  1.50627685, ...,  2.73480045,\n",
       "         1.83471439,  1.90569191]])"
      ]
     },
     "execution_count": 130,
     "metadata": {},
     "output_type": "execute_result"
    }
   ],
   "source": [
    "from sklearn.preprocessing import StandardScaler\n",
    "sc=StandardScaler()\n",
    "x1=sc.fit_transform(x)\n",
    "x1"
   ]
  },
  {
   "cell_type": "markdown",
   "id": "f84038a6",
   "metadata": {},
   "source": [
    "### Model Building"
   ]
  },
  {
   "cell_type": "markdown",
   "id": "e31834d3",
   "metadata": {},
   "source": [
    "### Linear Regression"
   ]
  },
  {
   "cell_type": "code",
   "execution_count": 163,
   "id": "83ae0798",
   "metadata": {},
   "outputs": [
    {
     "data": {
      "text/plain": [
       "((3318, 8), (830, 8))"
      ]
     },
     "execution_count": 163,
     "metadata": {},
     "output_type": "execute_result"
    }
   ],
   "source": [
    "from sklearn.model_selection import train_test_split\n",
    "from sklearn import metrics\n",
    "x_train,x_test,y_train,y_test=train_test_split(x1,y,test_size=0.2,random_state=42)\n",
    "x_train.shape,x_test.shape"
   ]
  },
  {
   "cell_type": "code",
   "execution_count": 155,
   "id": "224bfd9e",
   "metadata": {},
   "outputs": [
    {
     "data": {
      "text/plain": [
       "0.5676481741929682"
      ]
     },
     "execution_count": 155,
     "metadata": {},
     "output_type": "execute_result"
    }
   ],
   "source": [
    "from sklearn.linear_model import LinearRegression\n",
    "lr=LinearRegression()\n",
    "lr.fit(x_train,y_train)\n",
    "lr.score(x_test,y_test)"
   ]
  },
  {
   "cell_type": "markdown",
   "id": "a47e1d13",
   "metadata": {},
   "source": [
    "### Lasso"
   ]
  },
  {
   "cell_type": "code",
   "execution_count": 144,
   "id": "fe6e8405",
   "metadata": {},
   "outputs": [
    {
     "data": {
      "text/plain": [
       "0.5672651558727646"
      ]
     },
     "execution_count": 144,
     "metadata": {},
     "output_type": "execute_result"
    }
   ],
   "source": [
    "from sklearn.linear_model import Lasso\n",
    "lr1=Lasso(alpha=0.001)\n",
    "lr1.fit(x_train,y_train)\n",
    "lr1.score(x_test,y_test)"
   ]
  },
  {
   "cell_type": "markdown",
   "id": "c721f53b",
   "metadata": {},
   "source": [
    "### Ridge"
   ]
  },
  {
   "cell_type": "code",
   "execution_count": 171,
   "id": "3c947b78",
   "metadata": {},
   "outputs": [
    {
     "data": {
      "text/plain": [
       "0.5676440857767047"
      ]
     },
     "execution_count": 171,
     "metadata": {},
     "output_type": "execute_result"
    }
   ],
   "source": [
    "from sklearn.linear_model import Ridge\n",
    "r1=Ridge(alpha=0.01)\n",
    "r1.fit(x_train,y_train)\n",
    "r1.score(x_test,y_test)"
   ]
  },
  {
   "cell_type": "markdown",
   "id": "3d13edf6",
   "metadata": {},
   "source": [
    "### Prediction"
   ]
  },
  {
   "cell_type": "code",
   "execution_count": 167,
   "id": "0f009e32",
   "metadata": {
    "scrolled": false
   },
   "outputs": [
    {
     "data": {
      "text/plain": [
       "(array([1.15517188, 0.56064759, 0.94454085, 0.28941484, 0.66861919,\n",
       "        0.59734142, 0.79679274, 0.797571  ]),\n",
       " 15.5)"
      ]
     },
     "execution_count": 167,
     "metadata": {},
     "output_type": "execute_result"
    }
   ],
   "source": [
    "x_test[231],y_test[231]"
   ]
  },
  {
   "cell_type": "code",
   "execution_count": 169,
   "id": "1c6438ac",
   "metadata": {},
   "outputs": [
    {
     "data": {
      "text/plain": [
       "(array([1.15517188, 0.89850634, 1.09774158, 0.68448704, 1.10789396,\n",
       "        0.61126624, 1.57872474, 1.57325563]),\n",
       " 10.5)"
      ]
     },
     "execution_count": 169,
     "metadata": {},
     "output_type": "execute_result"
    }
   ],
   "source": [
    "x_test[23],y_test[23]"
   ]
  },
  {
   "cell_type": "code",
   "execution_count": 168,
   "id": "e772cd36",
   "metadata": {
    "scrolled": true
   },
   "outputs": [
    {
     "data": {
      "text/plain": [
       "array([13.06004481])"
      ]
     },
     "execution_count": 168,
     "metadata": {},
     "output_type": "execute_result"
    }
   ],
   "source": [
    "lr.predict([x_test[231]])"
   ]
  },
  {
   "cell_type": "code",
   "execution_count": 170,
   "id": "1467ea74",
   "metadata": {
    "scrolled": true
   },
   "outputs": [
    {
     "data": {
      "text/plain": [
       "array([15.2756354])"
      ]
     },
     "execution_count": 170,
     "metadata": {},
     "output_type": "execute_result"
    }
   ],
   "source": [
    "lr.predict([x_test[23]])"
   ]
  },
  {
   "cell_type": "code",
   "execution_count": null,
   "id": "2207dd1c",
   "metadata": {},
   "outputs": [],
   "source": []
  }
 ],
 "metadata": {
  "kernelspec": {
   "display_name": "Python 3 (ipykernel)",
   "language": "python",
   "name": "python3"
  },
  "language_info": {
   "codemirror_mode": {
    "name": "ipython",
    "version": 3
   },
   "file_extension": ".py",
   "mimetype": "text/x-python",
   "name": "python",
   "nbconvert_exporter": "python",
   "pygments_lexer": "ipython3",
   "version": "3.9.7"
  }
 },
 "nbformat": 4,
 "nbformat_minor": 5
}
